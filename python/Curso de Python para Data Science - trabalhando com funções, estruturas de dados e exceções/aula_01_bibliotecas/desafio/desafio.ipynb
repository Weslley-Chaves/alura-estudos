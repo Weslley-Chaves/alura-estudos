{
 "cells": [
  {
   "cell_type": "markdown",
   "id": "47c5ef3f",
   "metadata": {},
   "source": [
    "# **Desafio da hora prática**"
   ]
  },
  {
   "cell_type": "markdown",
   "id": "b5e581be",
   "metadata": {},
   "source": [
    "1. Escreva um código para instalar a versão 3.7.1 da biblioteca matplotlib."
   ]
  },
  {
   "cell_type": "code",
   "execution_count": null,
   "id": "64ba6a41",
   "metadata": {},
   "outputs": [],
   "source": [
    "import subprocess\n",
    "subprocess.check_call([\"pip\", \"install\", \"matplotlib==3.7.1\"])\n",
    "\n",
    "import matplotlib"
   ]
  },
  {
   "cell_type": "markdown",
   "id": "24fae938",
   "metadata": {},
   "source": [
    "2. Escreva um código para importar a biblioteca numpy com o alias np."
   ]
  },
  {
   "cell_type": "code",
   "execution_count": null,
   "id": "20d40185",
   "metadata": {},
   "outputs": [],
   "source": [
    "import numpy as np"
   ]
  },
  {
   "cell_type": "markdown",
   "id": "6cb4c427",
   "metadata": {},
   "source": [
    "3. Crie um programa que leia a seguinte lista de números e escolha um número desta aleatoriamente."
   ]
  },
  {
   "cell_type": "code",
   "execution_count": null,
   "id": "f4e1413e",
   "metadata": {},
   "outputs": [],
   "source": [
    "from random import choice\n",
    "\n",
    "lista = [8, 12, 54, 23, 43, 1, 90, 87, 105, 77]\n",
    "\n",
    "print(choice(lista))"
   ]
  },
  {
   "cell_type": "markdown",
   "id": "87a984aa",
   "metadata": {},
   "source": [
    "4. Crie um programa que sorteia, aleatoriamente, um número inteiro positivo menor que 100."
   ]
  },
  {
   "cell_type": "code",
   "execution_count": null,
   "id": "dd4d9042",
   "metadata": {},
   "outputs": [],
   "source": [
    "from random import randrange\n",
    "\n",
    "print(randrange(1, 100))"
   ]
  },
  {
   "cell_type": "markdown",
   "id": "49240392",
   "metadata": {},
   "source": [
    "5. Crie um programa que solicite à pessoa usuária digitar dois números inteiros e calcular a potência do 1º número elevado ao 2º."
   ]
  },
  {
   "cell_type": "code",
   "execution_count": null,
   "id": "46f50117",
   "metadata": {},
   "outputs": [],
   "source": [
    "while True:\n",
    "    try:\n",
    "        base = int(input('Digite a base (número inteiro): '))\n",
    "        expoente = int(input('Digite o expoente (número inteiro): '))\n",
    "        break\n",
    "    except ValueError:\n",
    "        print('❌ Entrada inválida. Digite apenas números inteiros.')\n",
    "\n",
    "resultado = pow(base, expoente)\n",
    "print(f'✅ A potência de {base} elevado a {expoente} é: {resultado}')"
   ]
  },
  {
   "cell_type": "markdown",
   "id": "954c8433",
   "metadata": {},
   "source": [
    "6. Um programa deve ser escrito para sortear uma pessoa seguidora de uma rede social para ganhar um prêmio. A lista de participantes é numerada e devemos escolher aleatoriamente um número de acordo com a quantidade de participantes. Peça à pessoa usuária para fornecer o número de participantes do sorteio e devolva para ela o número sorteado."
   ]
  },
  {
   "cell_type": "code",
   "execution_count": null,
   "id": "61c08e82",
   "metadata": {},
   "outputs": [],
   "source": [
    "from random import randint\n",
    "\n",
    "print('🎉 SORTEADOR DE NÚMEROS 🎉\\n')\n",
    "\n",
    "while True:\n",
    "    try:\n",
    "        total_participantes = int(input('Digite o TOTAL de participantes do sorteio: '))\n",
    "        if total_participantes < 1:\n",
    "            print('❌ O número de participantes deve ser maior que zero.')\n",
    "            continue\n",
    "        break\n",
    "    except ValueError:\n",
    "        print('❌ Entrada inválida. Digite apenas números inteiros.')\n",
    "\n",
    "sorteado = randint(1, total_participantes)\n",
    "\n",
    "print(f'✅ O número sorteado foi {sorteado}.')"
   ]
  },
  {
   "cell_type": "markdown",
   "id": "64cff340",
   "metadata": {},
   "source": [
    "7. Você recebeu uma demanda para gerar números de token para acessar o aplicativo de uma empresa. O token precisa ser par e variar de 1000 até 9998. Escreva um código que solicita à pessoa usuária o seu nome e exibe uma mensagem junto a esse token gerado aleatoriamente.\n",
    "\n",
    "`\"Olá, [nome], o seu token de acesso é [token]! Seja bem-vindo(a)!\"`"
   ]
  },
  {
   "cell_type": "code",
   "execution_count": null,
   "id": "f18aeb05",
   "metadata": {},
   "outputs": [],
   "source": [
    "from random import randrange\n",
    "import time\n",
    "\n",
    "print('Gerador de TOKENS 🔢\\n')\n",
    "\n",
    "min_token = 1000\n",
    "max_token = 9998\n",
    "nome_usuario = input('Qual é o seu nome? ')\n",
    "\n",
    "for i in range(3, 0, -1):\n",
    "    print(f'Gerando seu TOKEN em {i}...', end=\"\\r\")\n",
    "    time.sleep(1)\n",
    "\n",
    "print(\"\\nToken gerado com sucesso. ✅\\n\")\n",
    "\n",
    "# Gera apenas números pares\n",
    "token_aleatorio = randrange(min_token, max_token + 1, 2)\n",
    "\n",
    "print(f'\\nOlá, {nome_usuario}, o seu token de acesso é {token_aleatorio}! Seja bem-vindo(a)!')"
   ]
  },
  {
   "cell_type": "markdown",
   "id": "486c9919",
   "metadata": {},
   "source": [
    "8. Para diversificar e atrair novos(as) clientes, uma lanchonete criou um item misterioso em seu cardápio chamado \"salada de frutas surpresa\". Neste item, são escolhidas aleatoriamente 3 frutas de uma lista de 12 para compor a salada de frutas da pessoa cliente. Crie o código que faça essa seleção aleatória de acordo com a lista abaixo:"
   ]
  },
  {
   "cell_type": "code",
   "execution_count": null,
   "id": "aed4180d",
   "metadata": {},
   "outputs": [],
   "source": [
    "from random import sample # sorteia sem repetição\n",
    "\n",
    "print('🍎🍊🍏🍋🍐 SALADA DE FRUTAS SUPRESA 🍇🍍🍌🥭🍉\\n')\n",
    "\n",
    "frutas = [\"maçã\", \"banana\", \"uva\", \"pêra\",\n",
    "          \"manga\", \"coco\", \"melancia\", \"mamão\",\n",
    "          \"laranja\", \"abacaxi\", \"kiwi\", \"ameixa\"]\n",
    "\n",
    "frutas_escolhidas = sample(frutas,k=3)\n",
    "\n",
    "print('As frutas escolhidas foram:\\n')\n",
    "\n",
    "for i in frutas_escolhidas:\n",
    "    print(f'- {i.capitalize()}')"
   ]
  },
  {
   "cell_type": "markdown",
   "id": "d011738c",
   "metadata": {},
   "source": [
    "9. Você recebeu um desafio de calcular a raiz quadrada de uma lista de números, identificando quais resultaram em um número inteiro. A lista é a seguinte:"
   ]
  },
  {
   "cell_type": "code",
   "execution_count": null,
   "id": "e6d7a394",
   "metadata": {},
   "outputs": [],
   "source": [
    "import math\n",
    "\n",
    "numeros = [2, 8, 15, 23, 91, 112, 256]\n",
    "\n",
    "for n in numeros:\n",
    "    raiz = math.sqrt(n)\n",
    "\n",
    "    if raiz.is_integer():\n",
    "        print(f\"✅ A raiz de {n} é inteira: {int(raiz)}\")\n",
    "    else:\n",
    "        print(f\"❌ A raiz de {n} não é inteira: {raiz:.2f}\")"
   ]
  },
  {
   "cell_type": "markdown",
   "id": "de1b9970",
   "metadata": {},
   "source": [
    "10. Faça um programa para uma loja que vende grama para jardins. Essa loja trabalha com jardins circulares e o preço do metro quadrado da grama é de R$ 25,00. Peça à pessoa usuária o raio da área circular e devolva o valor em reais do quanto precisará pagar."
   ]
  },
  {
   "cell_type": "code",
   "execution_count": null,
   "id": "04ca8214",
   "metadata": {},
   "outputs": [],
   "source": [
    "import math\n",
    "\n",
    "print(\"🌱 Loja de Grama - Jardins Circulares 🌱\\n\")\n",
    "\n",
    "# Entrada do usuário\n",
    "raio = float(input(\"Digite o raio do jardim em metros: \"))\n",
    "\n",
    "# Preço fixo por m²\n",
    "preco_m2 = 25.0\n",
    "\n",
    "# Cálculo da área e do valor total\n",
    "area = math.pi * (raio ** 2)\n",
    "valor_total = area * preco_m2\n",
    "\n",
    "# Saída formatada\n",
    "print(f\"\\nA área do jardim é {area:.2f} m².\")\n",
    "print(f\"O valor a pagar pela grama é R$ {valor_total:.2f}.\")"
   ]
  }
 ],
 "metadata": {
  "kernelspec": {
   "display_name": "Python 3",
   "language": "python",
   "name": "python3"
  },
  "language_info": {
   "codemirror_mode": {
    "name": "ipython",
    "version": 3
   },
   "file_extension": ".py",
   "mimetype": "text/x-python",
   "name": "python",
   "nbconvert_exporter": "python",
   "pygments_lexer": "ipython3",
   "version": "3.12.6"
  }
 },
 "nbformat": 4,
 "nbformat_minor": 5
}
